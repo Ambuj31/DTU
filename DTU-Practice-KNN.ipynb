{
 "cells": [
  {
   "cell_type": "code",
   "execution_count": 293,
   "metadata": {},
   "outputs": [],
   "source": [
    "import numpy as np\n",
    "import pandas as pd"
   ]
  },
  {
   "cell_type": "code",
   "execution_count": 294,
   "metadata": {},
   "outputs": [
    {
     "data": {
      "text/html": [
       "<div>\n",
       "<style scoped>\n",
       "    .dataframe tbody tr th:only-of-type {\n",
       "        vertical-align: middle;\n",
       "    }\n",
       "\n",
       "    .dataframe tbody tr th {\n",
       "        vertical-align: top;\n",
       "    }\n",
       "\n",
       "    .dataframe thead th {\n",
       "        text-align: right;\n",
       "    }\n",
       "</style>\n",
       "<table border=\"1\" class=\"dataframe\">\n",
       "  <thead>\n",
       "    <tr style=\"text-align: right;\">\n",
       "      <th></th>\n",
       "      <th>N</th>\n",
       "      <th>P</th>\n",
       "      <th>K</th>\n",
       "      <th>temperature</th>\n",
       "      <th>humidity</th>\n",
       "      <th>ph</th>\n",
       "      <th>rainfall</th>\n",
       "      <th>crop</th>\n",
       "    </tr>\n",
       "  </thead>\n",
       "  <tbody>\n",
       "    <tr>\n",
       "      <th>0</th>\n",
       "      <td>17.0</td>\n",
       "      <td>136.0</td>\n",
       "      <td>196.0</td>\n",
       "      <td>23.871923</td>\n",
       "      <td>90.499390</td>\n",
       "      <td>5.882156</td>\n",
       "      <td>103.054809</td>\n",
       "      <td>apple</td>\n",
       "    </tr>\n",
       "    <tr>\n",
       "      <th>1</th>\n",
       "      <td>49.0</td>\n",
       "      <td>69.0</td>\n",
       "      <td>82.0</td>\n",
       "      <td>18.315615</td>\n",
       "      <td>15.361435</td>\n",
       "      <td>7.263119</td>\n",
       "      <td>81.787105</td>\n",
       "      <td>chickpea</td>\n",
       "    </tr>\n",
       "    <tr>\n",
       "      <th>2</th>\n",
       "      <td>74.0</td>\n",
       "      <td>49.0</td>\n",
       "      <td>38.0</td>\n",
       "      <td>23.314104</td>\n",
       "      <td>71.450905</td>\n",
       "      <td>7.488014</td>\n",
       "      <td>164.497037</td>\n",
       "      <td>jute</td>\n",
       "    </tr>\n",
       "    <tr>\n",
       "      <th>3</th>\n",
       "      <td>104.0</td>\n",
       "      <td>35.0</td>\n",
       "      <td>28.0</td>\n",
       "      <td>27.510061</td>\n",
       "      <td>50.666872</td>\n",
       "      <td>6.983732</td>\n",
       "      <td>143.995555</td>\n",
       "      <td>coffee</td>\n",
       "    </tr>\n",
       "    <tr>\n",
       "      <th>4</th>\n",
       "      <td>23.0</td>\n",
       "      <td>72.0</td>\n",
       "      <td>84.0</td>\n",
       "      <td>19.020613</td>\n",
       "      <td>17.131591</td>\n",
       "      <td>6.920251</td>\n",
       "      <td>79.926981</td>\n",
       "      <td>chickpea</td>\n",
       "    </tr>\n",
       "  </tbody>\n",
       "</table>\n",
       "</div>"
      ],
      "text/plain": [
       "       N      P      K  temperature   humidity        ph    rainfall      crop\n",
       "0   17.0  136.0  196.0    23.871923  90.499390  5.882156  103.054809     apple\n",
       "1   49.0   69.0   82.0    18.315615  15.361435  7.263119   81.787105  chickpea\n",
       "2   74.0   49.0   38.0    23.314104  71.450905  7.488014  164.497037      jute\n",
       "3  104.0   35.0   28.0    27.510061  50.666872  6.983732  143.995555    coffee\n",
       "4   23.0   72.0   84.0    19.020613  17.131591  6.920251   79.926981  chickpea"
      ]
     },
     "execution_count": 294,
     "metadata": {},
     "output_type": "execute_result"
    }
   ],
   "source": [
    "\n",
    "train_data = pd.read_csv(\"https://raw.githubusercontent.com/dphi-official/Datasets/master/crop_recommendation/train_set_label.csv\")\n",
    "train_data.head()"
   ]
  },
  {
   "cell_type": "code",
   "execution_count": 295,
   "metadata": {},
   "outputs": [],
   "source": [
    "from sklearn.preprocessing import LabelEncoder\n",
    "le = LabelEncoder()\n",
    "train_data.crop = le.fit_transform(train_data.crop)"
   ]
  },
  {
   "cell_type": "code",
   "execution_count": 296,
   "metadata": {},
   "outputs": [],
   "source": [
    "X = train_data.drop('crop', axis = 1) \n",
    "y = train_data['crop'] "
   ]
  },
  {
   "cell_type": "code",
   "execution_count": 297,
   "metadata": {},
   "outputs": [],
   "source": [
    "from sklearn.model_selection import train_test_split"
   ]
  },
  {
   "cell_type": "code",
   "execution_count": 298,
   "metadata": {},
   "outputs": [],
   "source": [
    "X_train, X_val, y_train, y_val = train_test_split(X,y,test_size=0.25,random_state = 42)"
   ]
  },
  {
   "cell_type": "code",
   "execution_count": null,
   "metadata": {},
   "outputs": [],
   "source": []
  },
  {
   "cell_type": "code",
   "execution_count": 299,
   "metadata": {},
   "outputs": [
    {
     "data": {
      "text/plain": [
       "KNeighborsClassifier(algorithm='auto', leaf_size=30, metric='minkowski',\n",
       "                     metric_params=None, n_jobs=None, n_neighbors=4, p=2,\n",
       "                     weights='uniform')"
      ]
     },
     "execution_count": 299,
     "metadata": {},
     "output_type": "execute_result"
    }
   ],
   "source": [
    "from sklearn.neighbors import KNeighborsClassifier\n",
    "classifier = KNeighborsClassifier(n_neighbors=4)\n",
    "classifier.fit(X_train, y_train)"
   ]
  },
  {
   "cell_type": "code",
   "execution_count": 300,
   "metadata": {},
   "outputs": [],
   "source": [
    "y_pred = classifier.predict(X_val)"
   ]
  },
  {
   "cell_type": "code",
   "execution_count": 301,
   "metadata": {},
   "outputs": [],
   "source": [
    "from sklearn.metrics import accuracy_score"
   ]
  },
  {
   "cell_type": "code",
   "execution_count": 302,
   "metadata": {},
   "outputs": [
    {
     "name": "stdout",
     "output_type": "stream",
     "text": [
      "Accuracy Score is:  0.9782082324455206\n"
     ]
    }
   ],
   "source": [
    "print('Accuracy Score is: ', accuracy_score(y_val, y_pred))\n"
   ]
  },
  {
   "cell_type": "code",
   "execution_count": 303,
   "metadata": {},
   "outputs": [],
   "source": [
    "\n",
    "test_data = pd.read_csv('https://raw.githubusercontent.com/dphi-official/Datasets/master/crop_recommendation/test_set_label.csv')"
   ]
  },
  {
   "cell_type": "code",
   "execution_count": 304,
   "metadata": {},
   "outputs": [],
   "source": [
    "\n",
    "target = svclassifier.predict(test_data)"
   ]
  },
  {
   "cell_type": "code",
   "execution_count": 305,
   "metadata": {},
   "outputs": [
    {
     "data": {
      "text/plain": [
       "array([13,  6, 12, 10, 14,  5, 10,  6, 10, 10, 20, 13, 16,  1,  4, 15,  7,\n",
       "        5, 21, 14,  4, 20, 13, 11,  0, 16, 20, 21, 19, 13,  9, 14,  1, 17,\n",
       "        2,  3,  9,  4, 10, 17,  7,  7, 20,  3,  7, 18, 21, 18, 21, 12, 11,\n",
       "       12,  7, 18, 20,  9,  0,  4, 21,  0, 14,  5, 21, 14,  0,  9, 16,  7,\n",
       "       21,  4, 11, 19,  6,  0, 11,  8, 13,  6,  6, 18, 18, 13,  1,  0,  9,\n",
       "        6,  1,  3,  0, 11,  7, 16, 19,  2, 21, 13,  7,  0,  3, 16, 16, 15,\n",
       "        4,  8, 16,  6, 18,  6,  6, 12, 19,  3, 11, 13,  5,  9,  1,  4, 10,\n",
       "        8,  2,  5,  9, 14,  6, 17, 21,  4, 17,  2, 20, 13, 15, 13, 20, 14,\n",
       "       19, 18,  5,  5, 12,  8,  8,  6,  3,  3, 17, 13, 16,  0,  5, 14, 11,\n",
       "        3,  2, 10, 16,  9, 19, 17,  2, 12, 19,  8, 18, 13,  3, 15,  3, 10,\n",
       "       12,  4,  1,  5, 20, 12, 21, 21,  8,  4, 18, 17, 20, 16,  6,  2, 18,\n",
       "       12, 12,  2,  8, 16, 17, 11, 11,  6, 17, 15,  0,  5,  4, 21, 15, 15,\n",
       "        4,  3, 11, 14,  6, 15, 13, 20, 10, 20,  9,  7, 18, 10,  8,  7, 11,\n",
       "       11, 15, 12, 14,  1, 17, 20, 16,  3,  7,  1,  2, 14, 16, 15, 13, 14,\n",
       "       13,  7,  8, 15, 15, 11, 20, 19,  1,  1, 19,  4, 19, 17,  2, 21, 13,\n",
       "       14, 13,  4, 16, 21,  7,  0, 11, 16,  9,  2, 16, 18, 17, 16,  9, 10,\n",
       "        7,  8, 15, 15,  1,  2, 16, 15, 18,  7,  3, 12, 16,  5,  0,  6, 13,\n",
       "        2, 10, 16, 17,  6, 17, 10,  5,  0, 21,  1, 11, 19,  7,  8,  5, 19,\n",
       "        9, 13,  6,  3, 17, 19, 19, 21,  7,  6, 14, 21, 20,  6, 14,  9, 21,\n",
       "        1,  3,  5,  9, 13, 12, 14,  5, 20, 15,  9,  8, 21,  7,  2, 12, 21,\n",
       "        5, 20,  3,  4,  5, 14, 10,  8, 19, 18, 20,  6, 18,  1,  3,  1,  2,\n",
       "        9,  4,  7,  8, 17, 14, 11,  4,  3, 19, 15, 19,  7,  3,  9,  3,  2,\n",
       "        9,  5, 12,  7, 17,  4,  4,  0,  9, 11,  4,  1,  6, 15,  8, 20,  6,\n",
       "       19,  0,  9,  0, 12,  4, 11,  5, 12, 20, 14,  5, 19, 10,  5,  9,  7,\n",
       "       19,  9, 19, 20, 18,  3, 18, 10,  2, 12, 17, 18,  0,  6, 10,  7,  2,\n",
       "       17, 17, 18, 15, 17, 19,  1, 13, 14, 11, 14,  7, 18,  9,  0, 11,  0,\n",
       "       13,  5,  2,  5, 20,  3, 15, 14,  8,  3, 20,  9, 20, 12, 15, 16, 12,\n",
       "        1,  8, 15, 20, 21, 17,  7, 14,  5, 19,  6, 12, 10, 17, 21, 13, 12,\n",
       "        8, 20, 13, 10,  0, 18,  1,  2, 10, 10,  1, 12, 12,  0,  5, 21,  4,\n",
       "       18, 10, 10,  1,  2, 16,  1,  6,  4, 21,  0,  2, 14,  8, 11,  8, 19,\n",
       "       16, 19, 16,  9,  2, 18, 21,  1, 15,  8, 12, 17, 10, 11,  1,  9, 10,\n",
       "        2, 16,  8,  8, 17, 13,  0, 20,  2,  0, 11, 11, 13, 15,  1, 11,  3,\n",
       "       15,  3,  4,  4,  0, 14])"
      ]
     },
     "execution_count": 305,
     "metadata": {},
     "output_type": "execute_result"
    }
   ],
   "source": [
    "target"
   ]
  },
  {
   "cell_type": "code",
   "execution_count": 306,
   "metadata": {},
   "outputs": [],
   "source": [
    "target = le.inverse_transform(target)"
   ]
  },
  {
   "cell_type": "code",
   "execution_count": 307,
   "metadata": {},
   "outputs": [
    {
     "data": {
      "text/plain": [
       "array(['mothbeans', 'cotton', 'mango', 'lentil', 'mungbean', 'coffee',\n",
       "       'lentil', 'cotton', 'lentil', 'lentil', 'rice', 'mothbeans',\n",
       "       'orange', 'banana', 'coconut', 'muskmelon', 'grapes', 'coffee',\n",
       "       'watermelon', 'mungbean', 'coconut', 'rice', 'mothbeans', 'maize',\n",
       "       'apple', 'orange', 'rice', 'watermelon', 'pomegranate',\n",
       "       'mothbeans', 'kidneybeans', 'mungbean', 'banana', 'papaya',\n",
       "       'blackgram', 'chickpea', 'kidneybeans', 'coconut', 'lentil',\n",
       "       'papaya', 'grapes', 'grapes', 'rice', 'chickpea', 'grapes',\n",
       "       'pigeonpeas', 'watermelon', 'pigeonpeas', 'watermelon', 'mango',\n",
       "       'maize', 'mango', 'grapes', 'pigeonpeas', 'rice', 'kidneybeans',\n",
       "       'apple', 'coconut', 'watermelon', 'apple', 'mungbean', 'coffee',\n",
       "       'watermelon', 'mungbean', 'apple', 'kidneybeans', 'orange',\n",
       "       'grapes', 'watermelon', 'coconut', 'maize', 'pomegranate',\n",
       "       'cotton', 'apple', 'maize', 'jute', 'mothbeans', 'cotton',\n",
       "       'cotton', 'pigeonpeas', 'pigeonpeas', 'mothbeans', 'banana',\n",
       "       'apple', 'kidneybeans', 'cotton', 'banana', 'chickpea', 'apple',\n",
       "       'maize', 'grapes', 'orange', 'pomegranate', 'blackgram',\n",
       "       'watermelon', 'mothbeans', 'grapes', 'apple', 'chickpea', 'orange',\n",
       "       'orange', 'muskmelon', 'coconut', 'jute', 'orange', 'cotton',\n",
       "       'pigeonpeas', 'cotton', 'cotton', 'mango', 'pomegranate',\n",
       "       'chickpea', 'maize', 'mothbeans', 'coffee', 'kidneybeans',\n",
       "       'banana', 'coconut', 'lentil', 'jute', 'blackgram', 'coffee',\n",
       "       'kidneybeans', 'mungbean', 'cotton', 'papaya', 'watermelon',\n",
       "       'coconut', 'papaya', 'blackgram', 'rice', 'mothbeans', 'muskmelon',\n",
       "       'mothbeans', 'rice', 'mungbean', 'pomegranate', 'pigeonpeas',\n",
       "       'coffee', 'coffee', 'mango', 'jute', 'jute', 'cotton', 'chickpea',\n",
       "       'chickpea', 'papaya', 'mothbeans', 'orange', 'apple', 'coffee',\n",
       "       'mungbean', 'maize', 'chickpea', 'blackgram', 'lentil', 'orange',\n",
       "       'kidneybeans', 'pomegranate', 'papaya', 'blackgram', 'mango',\n",
       "       'pomegranate', 'jute', 'pigeonpeas', 'mothbeans', 'chickpea',\n",
       "       'muskmelon', 'chickpea', 'lentil', 'mango', 'coconut', 'banana',\n",
       "       'coffee', 'rice', 'mango', 'watermelon', 'watermelon', 'jute',\n",
       "       'coconut', 'pigeonpeas', 'papaya', 'rice', 'orange', 'cotton',\n",
       "       'blackgram', 'pigeonpeas', 'mango', 'mango', 'blackgram', 'jute',\n",
       "       'orange', 'papaya', 'maize', 'maize', 'cotton', 'papaya',\n",
       "       'muskmelon', 'apple', 'coffee', 'coconut', 'watermelon',\n",
       "       'muskmelon', 'muskmelon', 'coconut', 'chickpea', 'maize',\n",
       "       'mungbean', 'cotton', 'muskmelon', 'mothbeans', 'rice', 'lentil',\n",
       "       'rice', 'kidneybeans', 'grapes', 'pigeonpeas', 'lentil', 'jute',\n",
       "       'grapes', 'maize', 'maize', 'muskmelon', 'mango', 'mungbean',\n",
       "       'banana', 'papaya', 'rice', 'orange', 'chickpea', 'grapes',\n",
       "       'banana', 'blackgram', 'mungbean', 'orange', 'muskmelon',\n",
       "       'mothbeans', 'mungbean', 'mothbeans', 'grapes', 'jute',\n",
       "       'muskmelon', 'muskmelon', 'maize', 'rice', 'pomegranate', 'banana',\n",
       "       'banana', 'pomegranate', 'coconut', 'pomegranate', 'papaya',\n",
       "       'blackgram', 'watermelon', 'mothbeans', 'mungbean', 'mothbeans',\n",
       "       'coconut', 'orange', 'watermelon', 'grapes', 'apple', 'maize',\n",
       "       'orange', 'kidneybeans', 'blackgram', 'orange', 'pigeonpeas',\n",
       "       'papaya', 'orange', 'kidneybeans', 'lentil', 'grapes', 'jute',\n",
       "       'muskmelon', 'muskmelon', 'banana', 'blackgram', 'orange',\n",
       "       'muskmelon', 'pigeonpeas', 'grapes', 'chickpea', 'mango', 'orange',\n",
       "       'coffee', 'apple', 'cotton', 'mothbeans', 'blackgram', 'lentil',\n",
       "       'orange', 'papaya', 'cotton', 'papaya', 'lentil', 'coffee',\n",
       "       'apple', 'watermelon', 'banana', 'maize', 'pomegranate', 'grapes',\n",
       "       'jute', 'coffee', 'pomegranate', 'kidneybeans', 'mothbeans',\n",
       "       'cotton', 'chickpea', 'papaya', 'pomegranate', 'pomegranate',\n",
       "       'watermelon', 'grapes', 'cotton', 'mungbean', 'watermelon', 'rice',\n",
       "       'cotton', 'mungbean', 'kidneybeans', 'watermelon', 'banana',\n",
       "       'chickpea', 'coffee', 'kidneybeans', 'mothbeans', 'mango',\n",
       "       'mungbean', 'coffee', 'rice', 'muskmelon', 'kidneybeans', 'jute',\n",
       "       'watermelon', 'grapes', 'blackgram', 'mango', 'watermelon',\n",
       "       'coffee', 'rice', 'chickpea', 'coconut', 'coffee', 'mungbean',\n",
       "       'lentil', 'jute', 'pomegranate', 'pigeonpeas', 'rice', 'cotton',\n",
       "       'pigeonpeas', 'banana', 'chickpea', 'banana', 'blackgram',\n",
       "       'kidneybeans', 'coconut', 'grapes', 'jute', 'papaya', 'mungbean',\n",
       "       'maize', 'coconut', 'chickpea', 'pomegranate', 'muskmelon',\n",
       "       'pomegranate', 'grapes', 'chickpea', 'kidneybeans', 'chickpea',\n",
       "       'blackgram', 'kidneybeans', 'coffee', 'mango', 'grapes', 'papaya',\n",
       "       'coconut', 'coconut', 'apple', 'kidneybeans', 'maize', 'coconut',\n",
       "       'banana', 'cotton', 'muskmelon', 'jute', 'rice', 'cotton',\n",
       "       'pomegranate', 'apple', 'kidneybeans', 'apple', 'mango', 'coconut',\n",
       "       'maize', 'coffee', 'mango', 'rice', 'mungbean', 'coffee',\n",
       "       'pomegranate', 'lentil', 'coffee', 'kidneybeans', 'grapes',\n",
       "       'pomegranate', 'kidneybeans', 'pomegranate', 'rice', 'pigeonpeas',\n",
       "       'chickpea', 'pigeonpeas', 'lentil', 'blackgram', 'mango', 'papaya',\n",
       "       'pigeonpeas', 'apple', 'cotton', 'lentil', 'grapes', 'blackgram',\n",
       "       'papaya', 'papaya', 'pigeonpeas', 'muskmelon', 'papaya',\n",
       "       'pomegranate', 'banana', 'mothbeans', 'mungbean', 'maize',\n",
       "       'mungbean', 'grapes', 'pigeonpeas', 'kidneybeans', 'apple',\n",
       "       'maize', 'apple', 'mothbeans', 'coffee', 'blackgram', 'coffee',\n",
       "       'rice', 'chickpea', 'muskmelon', 'mungbean', 'jute', 'chickpea',\n",
       "       'rice', 'kidneybeans', 'rice', 'mango', 'muskmelon', 'orange',\n",
       "       'mango', 'banana', 'jute', 'muskmelon', 'rice', 'watermelon',\n",
       "       'papaya', 'grapes', 'mungbean', 'coffee', 'pomegranate', 'cotton',\n",
       "       'mango', 'lentil', 'papaya', 'watermelon', 'mothbeans', 'mango',\n",
       "       'jute', 'rice', 'mothbeans', 'lentil', 'apple', 'pigeonpeas',\n",
       "       'banana', 'blackgram', 'lentil', 'lentil', 'banana', 'mango',\n",
       "       'mango', 'apple', 'coffee', 'watermelon', 'coconut', 'pigeonpeas',\n",
       "       'lentil', 'lentil', 'banana', 'blackgram', 'orange', 'banana',\n",
       "       'cotton', 'coconut', 'watermelon', 'apple', 'blackgram',\n",
       "       'mungbean', 'jute', 'maize', 'jute', 'pomegranate', 'orange',\n",
       "       'pomegranate', 'orange', 'kidneybeans', 'blackgram', 'pigeonpeas',\n",
       "       'watermelon', 'banana', 'muskmelon', 'jute', 'mango', 'papaya',\n",
       "       'lentil', 'maize', 'banana', 'kidneybeans', 'lentil', 'blackgram',\n",
       "       'orange', 'jute', 'jute', 'papaya', 'mothbeans', 'apple', 'rice',\n",
       "       'blackgram', 'apple', 'maize', 'maize', 'mothbeans', 'muskmelon',\n",
       "       'banana', 'maize', 'chickpea', 'muskmelon', 'chickpea', 'coconut',\n",
       "       'coconut', 'apple', 'mungbean'], dtype=object)"
      ]
     },
     "execution_count": 307,
     "metadata": {},
     "output_type": "execute_result"
    }
   ],
   "source": [
    "target"
   ]
  },
  {
   "cell_type": "code",
   "execution_count": 308,
   "metadata": {},
   "outputs": [],
   "source": [
    "res = pd.DataFrame(target)\n",
    "res.columns = [\"prediction\"]\n",
    "res.to_csv(\"submission.csv\", index = False) "
   ]
  },
  {
   "cell_type": "code",
   "execution_count": null,
   "metadata": {},
   "outputs": [],
   "source": []
  }
 ],
 "metadata": {
  "kernelspec": {
   "display_name": "Python 3",
   "language": "python",
   "name": "python3"
  },
  "language_info": {
   "codemirror_mode": {
    "name": "ipython",
    "version": 3
   },
   "file_extension": ".py",
   "mimetype": "text/x-python",
   "name": "python",
   "nbconvert_exporter": "python",
   "pygments_lexer": "ipython3",
   "version": "3.7.6"
  }
 },
 "nbformat": 4,
 "nbformat_minor": 4
}
