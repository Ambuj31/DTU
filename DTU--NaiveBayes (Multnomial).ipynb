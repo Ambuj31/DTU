{
 "cells": [
  {
   "cell_type": "code",
   "execution_count": null,
   "metadata": {},
   "outputs": [],
   "source": [
    "import numpy as np\n",
    "import pandas as pd\n"
   ]
  },
  {
   "cell_type": "code",
   "execution_count": 2,
   "metadata": {},
   "outputs": [
    {
     "data": {
      "text/html": [
       "<div>\n",
       "<style scoped>\n",
       "    .dataframe tbody tr th:only-of-type {\n",
       "        vertical-align: middle;\n",
       "    }\n",
       "\n",
       "    .dataframe tbody tr th {\n",
       "        vertical-align: top;\n",
       "    }\n",
       "\n",
       "    .dataframe thead th {\n",
       "        text-align: right;\n",
       "    }\n",
       "</style>\n",
       "<table border=\"1\" class=\"dataframe\">\n",
       "  <thead>\n",
       "    <tr style=\"text-align: right;\">\n",
       "      <th></th>\n",
       "      <th>N</th>\n",
       "      <th>P</th>\n",
       "      <th>K</th>\n",
       "      <th>temperature</th>\n",
       "      <th>humidity</th>\n",
       "      <th>ph</th>\n",
       "      <th>rainfall</th>\n",
       "      <th>crop</th>\n",
       "    </tr>\n",
       "  </thead>\n",
       "  <tbody>\n",
       "    <tr>\n",
       "      <th>0</th>\n",
       "      <td>17.0</td>\n",
       "      <td>136.0</td>\n",
       "      <td>196.0</td>\n",
       "      <td>23.871923</td>\n",
       "      <td>90.499390</td>\n",
       "      <td>5.882156</td>\n",
       "      <td>103.054809</td>\n",
       "      <td>apple</td>\n",
       "    </tr>\n",
       "    <tr>\n",
       "      <th>1</th>\n",
       "      <td>49.0</td>\n",
       "      <td>69.0</td>\n",
       "      <td>82.0</td>\n",
       "      <td>18.315615</td>\n",
       "      <td>15.361435</td>\n",
       "      <td>7.263119</td>\n",
       "      <td>81.787105</td>\n",
       "      <td>chickpea</td>\n",
       "    </tr>\n",
       "    <tr>\n",
       "      <th>2</th>\n",
       "      <td>74.0</td>\n",
       "      <td>49.0</td>\n",
       "      <td>38.0</td>\n",
       "      <td>23.314104</td>\n",
       "      <td>71.450905</td>\n",
       "      <td>7.488014</td>\n",
       "      <td>164.497037</td>\n",
       "      <td>jute</td>\n",
       "    </tr>\n",
       "    <tr>\n",
       "      <th>3</th>\n",
       "      <td>104.0</td>\n",
       "      <td>35.0</td>\n",
       "      <td>28.0</td>\n",
       "      <td>27.510061</td>\n",
       "      <td>50.666872</td>\n",
       "      <td>6.983732</td>\n",
       "      <td>143.995555</td>\n",
       "      <td>coffee</td>\n",
       "    </tr>\n",
       "    <tr>\n",
       "      <th>4</th>\n",
       "      <td>23.0</td>\n",
       "      <td>72.0</td>\n",
       "      <td>84.0</td>\n",
       "      <td>19.020613</td>\n",
       "      <td>17.131591</td>\n",
       "      <td>6.920251</td>\n",
       "      <td>79.926981</td>\n",
       "      <td>chickpea</td>\n",
       "    </tr>\n",
       "  </tbody>\n",
       "</table>\n",
       "</div>"
      ],
      "text/plain": [
       "       N      P      K  temperature   humidity        ph    rainfall      crop\n",
       "0   17.0  136.0  196.0    23.871923  90.499390  5.882156  103.054809     apple\n",
       "1   49.0   69.0   82.0    18.315615  15.361435  7.263119   81.787105  chickpea\n",
       "2   74.0   49.0   38.0    23.314104  71.450905  7.488014  164.497037      jute\n",
       "3  104.0   35.0   28.0    27.510061  50.666872  6.983732  143.995555    coffee\n",
       "4   23.0   72.0   84.0    19.020613  17.131591  6.920251   79.926981  chickpea"
      ]
     },
     "execution_count": 2,
     "metadata": {},
     "output_type": "execute_result"
    }
   ],
   "source": [
    "\n",
    "train_data = pd.read_csv(\"https://raw.githubusercontent.com/dphi-official/Datasets/master/crop_recommendation/train_set_label.csv\")\n",
    "train_data.head()"
   ]
  },
  {
   "cell_type": "code",
   "execution_count": 3,
   "metadata": {},
   "outputs": [],
   "source": [
    "from sklearn.preprocessing import LabelEncoder\n",
    "le = LabelEncoder()\n",
    "train_data.crop = le.fit_transform(train_data.crop)"
   ]
  },
  {
   "cell_type": "code",
   "execution_count": 4,
   "metadata": {},
   "outputs": [],
   "source": [
    "X = train_data.drop('crop', axis = 1) \n",
    "y = train_data['crop'] "
   ]
  },
  {
   "cell_type": "code",
   "execution_count": 5,
   "metadata": {},
   "outputs": [],
   "source": [
    "from sklearn.model_selection import train_test_split"
   ]
  },
  {
   "cell_type": "code",
   "execution_count": 6,
   "metadata": {},
   "outputs": [],
   "source": [
    "X_train, X_val, y_train, y_val = train_test_split(X,y,test_size=0.25, random_state = 42)"
   ]
  },
  {
   "cell_type": "code",
   "execution_count": 7,
   "metadata": {},
   "outputs": [],
   "source": [
    "# Import the model we are using\n",
    "from sklearn.feature_extraction.text import TfidfVectorizer\n",
    "from sklearn.naive_bayes import MultinomialNB\n",
    "from sklearn.pipeline import make_pipeline\n",
    "model = MultinomialNB()\n",
    "#model = make_pipeline(TfidfVectorizer(), MultinomialNB())\n"
   ]
  },
  {
   "cell_type": "code",
   "execution_count": 8,
   "metadata": {},
   "outputs": [
    {
     "data": {
      "text/plain": [
       "MultinomialNB(alpha=1.0, class_prior=None, fit_prior=True)"
      ]
     },
     "execution_count": 8,
     "metadata": {},
     "output_type": "execute_result"
    }
   ],
   "source": [
    "model.fit(X_train,y_train)"
   ]
  },
  {
   "cell_type": "code",
   "execution_count": 9,
   "metadata": {},
   "outputs": [
    {
     "data": {
      "text/plain": [
       "array([ 4, 20, 18,  9, 16, 13, 13, 19, 18,  3, 20,  1, 15, 13,  0, 13,  3,\n",
       "        8, 16,  2, 20, 20,  9,  1, 18,  5, 14,  5,  8,  6, 13, 11, 12,  7,\n",
       "        3,  9,  4,  1,  6,  8, 18, 19,  2,  8, 12, 15,  1, 19,  8, 10,  3,\n",
       "       15, 14, 14, 21, 18,  9,  0,  7,  1, 12,  7,  0, 20,  6,  6, 14, 14,\n",
       "       16, 14,  4, 15,  0, 17, 11, 18, 10,  9, 10, 13, 15, 13, 11, 11,  2,\n",
       "        7, 17, 14,  5, 18, 11, 12, 14, 12,  3, 17,  5, 13,  8,  2, 10,  8,\n",
       "       21,  1, 10, 14, 13, 19, 11, 21, 18,  2, 12,  7,  5, 20, 10,  3,  0,\n",
       "       15,  2,  5,  5,  3, 12, 11, 14,  1, 14,  0, 14, 10, 14, 14, 11,  9,\n",
       "        7, 17, 12, 15,  7, 11, 12, 20, 18, 12, 18, 14,  4, 21, 14, 17, 17,\n",
       "        5,  3, 15, 17,  7, 19,  6, 11,  3, 17, 18,  2, 16, 10, 21,  0, 11,\n",
       "        6, 15,  1, 14, 15, 13,  4,  3,  0,  9,  3, 17, 17, 20, 21,  8,  5,\n",
       "        3, 21,  7, 11,  5,  6,  8, 14,  3, 13,  9, 14,  0, 13, 11,  6,  2,\n",
       "        1, 14,  9,  9,  1, 16,  7, 20,  8,  5, 11, 12,  7, 21,  3,  0, 17,\n",
       "        6, 13,  9,  4,  9,  3,  7,  5, 17, 18,  7,  6,  5, 10, 11, 18,  7,\n",
       "       15,  0, 16, 11,  0, 18,  8, 14,  7, 11,  1,  4,  6, 18,  7, 17,  0,\n",
       "        1, 10, 12,  1, 20, 19,  2, 21, 16, 10, 10,  2, 19, 21,  0,  6, 21,\n",
       "       13, 20, 15, 11, 12,  2,  2,  6, 11,  5, 18, 20, 12, 18, 16, 21,  2,\n",
       "       17,  1, 14,  3,  7, 15,  4, 13,  8,  0,  2,  5,  8, 14, 13,  9, 12,\n",
       "       21,  9, 11,  6,  3,  1,  9,  8,  7,  9, 16, 21,  7,  2, 12,  2,  1,\n",
       "       12,  5,  6, 13, 17, 13,  4, 14,  3,  7,  6,  2, 20, 10,  5,  0, 18,\n",
       "        9,  3, 19, 17, 10, 11, 16, 15,  0, 20,  2,  9,  6,  1, 11,  5,  7,\n",
       "        4, 16, 19,  0,  4, 15, 18,  3, 15,  2, 19, 14,  4, 20,  5,  3, 19,\n",
       "        4, 12,  8, 19, 19,  9, 15,  2,  0, 12, 18,  1,  2,  4, 14, 10, 12,\n",
       "       10, 12,  9,  6,  6,  0,  2,  3,  0,  3, 16, 18, 10,  6,  0, 14,  2,\n",
       "       16,  8,  4,  9, 15])"
      ]
     },
     "execution_count": 9,
     "metadata": {},
     "output_type": "execute_result"
    }
   ],
   "source": [
    "# Use the forest's predict method on the test data\n",
    "pred = model.predict(X_val)\n",
    "pred"
   ]
  },
  {
   "cell_type": "code",
   "execution_count": null,
   "metadata": {},
   "outputs": [],
   "source": []
  },
  {
   "cell_type": "code",
   "execution_count": 10,
   "metadata": {},
   "outputs": [],
   "source": [
    "from sklearn.metrics import accuracy_score"
   ]
  },
  {
   "cell_type": "code",
   "execution_count": 11,
   "metadata": {},
   "outputs": [
    {
     "name": "stdout",
     "output_type": "stream",
     "text": [
      "Accuracy Score is:  0.8934624697336562\n"
     ]
    }
   ],
   "source": [
    "print('Accuracy Score is: ', accuracy_score(y_val, pred))\n"
   ]
  },
  {
   "cell_type": "code",
   "execution_count": 12,
   "metadata": {},
   "outputs": [],
   "source": [
    "test_data = pd.read_csv('https://raw.githubusercontent.com/dphi-official/Datasets/master/crop_recommendation/test_set_label.csv')"
   ]
  },
  {
   "cell_type": "code",
   "execution_count": 13,
   "metadata": {},
   "outputs": [],
   "source": [
    "target = model.predict(test_data)"
   ]
  },
  {
   "cell_type": "code",
   "execution_count": 14,
   "metadata": {},
   "outputs": [
    {
     "data": {
      "text/plain": [
       "array([13,  6, 12,  2, 14,  5, 10,  6, 10, 10, 20, 13, 16,  1,  4, 15,  7,\n",
       "        5, 21, 14,  4, 20, 13, 11,  0, 16, 20, 21, 19,  2,  9, 14,  1, 13,\n",
       "        2,  3,  9,  4,  2,  1,  7,  7, 20,  3,  7, 18, 21, 18, 21, 12,  6,\n",
       "       12,  7, 18, 20,  9,  0,  4, 21,  0, 14,  5, 21, 14,  0,  9, 16,  7,\n",
       "       21,  4, 11, 19,  6,  0, 11,  8, 13,  6, 11, 18, 18, 13,  1,  0,  9,\n",
       "        6,  1,  3,  0, 11,  7, 16, 17, 13, 21, 13,  7,  0,  3, 16, 16, 15,\n",
       "        4,  8, 16,  6, 18,  6,  6, 12, 19,  3, 11, 13,  5,  9,  1,  4, 10,\n",
       "        8,  2,  5,  9, 14,  6, 13, 21,  4, 17,  2, 20, 13, 15, 13,  8, 14,\n",
       "       19, 18,  5,  5, 12,  8,  8,  6,  3,  3, 13, 13, 16,  0,  5, 14, 11,\n",
       "        3,  2,  2, 16,  9, 19, 17,  2, 12, 19,  8, 18,  2,  3, 15,  3, 10,\n",
       "       12,  4,  1,  5, 20, 12, 21, 21,  8,  4,  9, 17, 20, 16,  6,  2, 18,\n",
       "       12, 12,  2,  8, 16, 17, 11,  6,  6,  8, 15,  0,  5,  4, 21, 15, 15,\n",
       "        4,  3,  8, 14,  6, 15, 13, 20, 10, 20,  9,  7, 18, 10,  8,  7, 11,\n",
       "       11, 15, 12, 14,  1, 20, 20, 16,  3,  7,  1,  2, 14, 16, 15, 13, 14,\n",
       "        2,  7,  8, 15, 15, 11, 20, 19,  1,  1, 19,  4, 19, 17,  2, 21,  9,\n",
       "       14, 10,  4, 16, 21,  7,  0, 11, 16,  9, 13, 16,  9, 17, 16,  9, 10,\n",
       "        7,  8, 15, 15,  1,  2, 16, 15, 18,  7,  3, 12, 16,  5,  0,  6,  2,\n",
       "       13, 10, 16,  1,  6, 17, 10,  5,  0, 21,  1, 11, 19,  7,  8,  5, 19,\n",
       "        9, 13,  6,  3, 20, 19, 19, 21,  7,  6, 14, 21, 20,  6, 14,  9, 21,\n",
       "        1,  3,  5, 18, 10, 12, 14,  5, 20, 15,  9,  8, 21,  7,  2, 12, 21,\n",
       "        5, 20,  3,  4,  5, 14, 10,  8, 19, 18, 20,  6, 18,  1,  3,  1, 13,\n",
       "       18,  4,  7, 17, 12, 14,  6,  4,  3, 19, 15, 19,  7,  3,  9,  3,  2,\n",
       "        9,  5, 12,  7, 17,  4,  4,  0,  9, 11,  4,  1,  6, 15,  8, 20,  6,\n",
       "       19,  0,  9,  0, 12,  4, 11,  5, 12, 20,  2,  5, 19,  2,  5,  9,  7,\n",
       "       19,  9, 19,  8, 18,  3, 18, 10,  2, 12, 17, 17,  0,  6, 10,  7,  2,\n",
       "       20,  8, 18, 15, 17, 19,  1, 10, 14, 11, 14,  7, 18,  9,  0, 11,  0,\n",
       "       13,  5, 13,  5, 20,  3, 15, 14,  8,  3, 20,  9, 20, 12, 15, 16, 12,\n",
       "        1,  8, 15, 20, 21, 14,  7, 14,  5, 19,  6, 12, 10,  1, 21, 13, 12,\n",
       "        8, 20, 13, 10,  0, 18,  1,  2, 10, 10,  1, 12, 12,  0,  5, 21, 19,\n",
       "       18, 10, 10,  1, 13, 16,  1,  6,  4, 21,  0,  2, 14,  8, 11,  8, 19,\n",
       "       16, 19, 16, 18,  2, 18, 21,  1, 15,  8, 12, 17, 10, 11,  1,  9,  2,\n",
       "       13, 16,  8,  8, 17, 13,  0,  8, 10,  0, 11, 11,  2, 15,  1, 11,  3,\n",
       "       15,  3,  4,  4,  0, 14])"
      ]
     },
     "execution_count": 14,
     "metadata": {},
     "output_type": "execute_result"
    }
   ],
   "source": [
    "target"
   ]
  },
  {
   "cell_type": "code",
   "execution_count": 15,
   "metadata": {},
   "outputs": [],
   "source": [
    "target = le.inverse_transform(target)"
   ]
  },
  {
   "cell_type": "code",
   "execution_count": 16,
   "metadata": {},
   "outputs": [
    {
     "data": {
      "text/plain": [
       "array(['mothbeans', 'cotton', 'mango', 'blackgram', 'mungbean', 'coffee',\n",
       "       'lentil', 'cotton', 'lentil', 'lentil', 'rice', 'mothbeans',\n",
       "       'orange', 'banana', 'coconut', 'muskmelon', 'grapes', 'coffee',\n",
       "       'watermelon', 'mungbean', 'coconut', 'rice', 'mothbeans', 'maize',\n",
       "       'apple', 'orange', 'rice', 'watermelon', 'pomegranate',\n",
       "       'blackgram', 'kidneybeans', 'mungbean', 'banana', 'mothbeans',\n",
       "       'blackgram', 'chickpea', 'kidneybeans', 'coconut', 'blackgram',\n",
       "       'banana', 'grapes', 'grapes', 'rice', 'chickpea', 'grapes',\n",
       "       'pigeonpeas', 'watermelon', 'pigeonpeas', 'watermelon', 'mango',\n",
       "       'cotton', 'mango', 'grapes', 'pigeonpeas', 'rice', 'kidneybeans',\n",
       "       'apple', 'coconut', 'watermelon', 'apple', 'mungbean', 'coffee',\n",
       "       'watermelon', 'mungbean', 'apple', 'kidneybeans', 'orange',\n",
       "       'grapes', 'watermelon', 'coconut', 'maize', 'pomegranate',\n",
       "       'cotton', 'apple', 'maize', 'jute', 'mothbeans', 'cotton', 'maize',\n",
       "       'pigeonpeas', 'pigeonpeas', 'mothbeans', 'banana', 'apple',\n",
       "       'kidneybeans', 'cotton', 'banana', 'chickpea', 'apple', 'maize',\n",
       "       'grapes', 'orange', 'papaya', 'mothbeans', 'watermelon',\n",
       "       'mothbeans', 'grapes', 'apple', 'chickpea', 'orange', 'orange',\n",
       "       'muskmelon', 'coconut', 'jute', 'orange', 'cotton', 'pigeonpeas',\n",
       "       'cotton', 'cotton', 'mango', 'pomegranate', 'chickpea', 'maize',\n",
       "       'mothbeans', 'coffee', 'kidneybeans', 'banana', 'coconut',\n",
       "       'lentil', 'jute', 'blackgram', 'coffee', 'kidneybeans', 'mungbean',\n",
       "       'cotton', 'mothbeans', 'watermelon', 'coconut', 'papaya',\n",
       "       'blackgram', 'rice', 'mothbeans', 'muskmelon', 'mothbeans', 'jute',\n",
       "       'mungbean', 'pomegranate', 'pigeonpeas', 'coffee', 'coffee',\n",
       "       'mango', 'jute', 'jute', 'cotton', 'chickpea', 'chickpea',\n",
       "       'mothbeans', 'mothbeans', 'orange', 'apple', 'coffee', 'mungbean',\n",
       "       'maize', 'chickpea', 'blackgram', 'blackgram', 'orange',\n",
       "       'kidneybeans', 'pomegranate', 'papaya', 'blackgram', 'mango',\n",
       "       'pomegranate', 'jute', 'pigeonpeas', 'blackgram', 'chickpea',\n",
       "       'muskmelon', 'chickpea', 'lentil', 'mango', 'coconut', 'banana',\n",
       "       'coffee', 'rice', 'mango', 'watermelon', 'watermelon', 'jute',\n",
       "       'coconut', 'kidneybeans', 'papaya', 'rice', 'orange', 'cotton',\n",
       "       'blackgram', 'pigeonpeas', 'mango', 'mango', 'blackgram', 'jute',\n",
       "       'orange', 'papaya', 'maize', 'cotton', 'cotton', 'jute',\n",
       "       'muskmelon', 'apple', 'coffee', 'coconut', 'watermelon',\n",
       "       'muskmelon', 'muskmelon', 'coconut', 'chickpea', 'jute',\n",
       "       'mungbean', 'cotton', 'muskmelon', 'mothbeans', 'rice', 'lentil',\n",
       "       'rice', 'kidneybeans', 'grapes', 'pigeonpeas', 'lentil', 'jute',\n",
       "       'grapes', 'maize', 'maize', 'muskmelon', 'mango', 'mungbean',\n",
       "       'banana', 'rice', 'rice', 'orange', 'chickpea', 'grapes', 'banana',\n",
       "       'blackgram', 'mungbean', 'orange', 'muskmelon', 'mothbeans',\n",
       "       'mungbean', 'blackgram', 'grapes', 'jute', 'muskmelon',\n",
       "       'muskmelon', 'maize', 'rice', 'pomegranate', 'banana', 'banana',\n",
       "       'pomegranate', 'coconut', 'pomegranate', 'papaya', 'blackgram',\n",
       "       'watermelon', 'kidneybeans', 'mungbean', 'lentil', 'coconut',\n",
       "       'orange', 'watermelon', 'grapes', 'apple', 'maize', 'orange',\n",
       "       'kidneybeans', 'mothbeans', 'orange', 'kidneybeans', 'papaya',\n",
       "       'orange', 'kidneybeans', 'lentil', 'grapes', 'jute', 'muskmelon',\n",
       "       'muskmelon', 'banana', 'blackgram', 'orange', 'muskmelon',\n",
       "       'pigeonpeas', 'grapes', 'chickpea', 'mango', 'orange', 'coffee',\n",
       "       'apple', 'cotton', 'blackgram', 'mothbeans', 'lentil', 'orange',\n",
       "       'banana', 'cotton', 'papaya', 'lentil', 'coffee', 'apple',\n",
       "       'watermelon', 'banana', 'maize', 'pomegranate', 'grapes', 'jute',\n",
       "       'coffee', 'pomegranate', 'kidneybeans', 'mothbeans', 'cotton',\n",
       "       'chickpea', 'rice', 'pomegranate', 'pomegranate', 'watermelon',\n",
       "       'grapes', 'cotton', 'mungbean', 'watermelon', 'rice', 'cotton',\n",
       "       'mungbean', 'kidneybeans', 'watermelon', 'banana', 'chickpea',\n",
       "       'coffee', 'pigeonpeas', 'lentil', 'mango', 'mungbean', 'coffee',\n",
       "       'rice', 'muskmelon', 'kidneybeans', 'jute', 'watermelon', 'grapes',\n",
       "       'blackgram', 'mango', 'watermelon', 'coffee', 'rice', 'chickpea',\n",
       "       'coconut', 'coffee', 'mungbean', 'lentil', 'jute', 'pomegranate',\n",
       "       'pigeonpeas', 'rice', 'cotton', 'pigeonpeas', 'banana', 'chickpea',\n",
       "       'banana', 'mothbeans', 'pigeonpeas', 'coconut', 'grapes', 'papaya',\n",
       "       'mango', 'mungbean', 'cotton', 'coconut', 'chickpea',\n",
       "       'pomegranate', 'muskmelon', 'pomegranate', 'grapes', 'chickpea',\n",
       "       'kidneybeans', 'chickpea', 'blackgram', 'kidneybeans', 'coffee',\n",
       "       'mango', 'grapes', 'papaya', 'coconut', 'coconut', 'apple',\n",
       "       'kidneybeans', 'maize', 'coconut', 'banana', 'cotton', 'muskmelon',\n",
       "       'jute', 'rice', 'cotton', 'pomegranate', 'apple', 'kidneybeans',\n",
       "       'apple', 'mango', 'coconut', 'maize', 'coffee', 'mango', 'rice',\n",
       "       'blackgram', 'coffee', 'pomegranate', 'blackgram', 'coffee',\n",
       "       'kidneybeans', 'grapes', 'pomegranate', 'kidneybeans',\n",
       "       'pomegranate', 'jute', 'pigeonpeas', 'chickpea', 'pigeonpeas',\n",
       "       'lentil', 'blackgram', 'mango', 'papaya', 'papaya', 'apple',\n",
       "       'cotton', 'lentil', 'grapes', 'blackgram', 'rice', 'jute',\n",
       "       'pigeonpeas', 'muskmelon', 'papaya', 'pomegranate', 'banana',\n",
       "       'lentil', 'mungbean', 'maize', 'mungbean', 'grapes', 'pigeonpeas',\n",
       "       'kidneybeans', 'apple', 'maize', 'apple', 'mothbeans', 'coffee',\n",
       "       'mothbeans', 'coffee', 'rice', 'chickpea', 'muskmelon', 'mungbean',\n",
       "       'jute', 'chickpea', 'rice', 'kidneybeans', 'rice', 'mango',\n",
       "       'muskmelon', 'orange', 'mango', 'banana', 'jute', 'muskmelon',\n",
       "       'rice', 'watermelon', 'mungbean', 'grapes', 'mungbean', 'coffee',\n",
       "       'pomegranate', 'cotton', 'mango', 'lentil', 'banana', 'watermelon',\n",
       "       'mothbeans', 'mango', 'jute', 'rice', 'mothbeans', 'lentil',\n",
       "       'apple', 'pigeonpeas', 'banana', 'blackgram', 'lentil', 'lentil',\n",
       "       'banana', 'mango', 'mango', 'apple', 'coffee', 'watermelon',\n",
       "       'pomegranate', 'pigeonpeas', 'lentil', 'lentil', 'banana',\n",
       "       'mothbeans', 'orange', 'banana', 'cotton', 'coconut', 'watermelon',\n",
       "       'apple', 'blackgram', 'mungbean', 'jute', 'maize', 'jute',\n",
       "       'pomegranate', 'orange', 'pomegranate', 'orange', 'pigeonpeas',\n",
       "       'blackgram', 'pigeonpeas', 'watermelon', 'banana', 'muskmelon',\n",
       "       'jute', 'mango', 'papaya', 'lentil', 'maize', 'banana',\n",
       "       'kidneybeans', 'blackgram', 'mothbeans', 'orange', 'jute', 'jute',\n",
       "       'papaya', 'mothbeans', 'apple', 'jute', 'lentil', 'apple', 'maize',\n",
       "       'maize', 'blackgram', 'muskmelon', 'banana', 'maize', 'chickpea',\n",
       "       'muskmelon', 'chickpea', 'coconut', 'coconut', 'apple', 'mungbean'],\n",
       "      dtype=object)"
      ]
     },
     "execution_count": 16,
     "metadata": {},
     "output_type": "execute_result"
    }
   ],
   "source": [
    "target"
   ]
  },
  {
   "cell_type": "code",
   "execution_count": 17,
   "metadata": {},
   "outputs": [],
   "source": [
    "res = pd.DataFrame(target)\n",
    "res.columns = [\"prediction\"]\n",
    "res.to_csv(\"submission.csv\", index = False) "
   ]
  },
  {
   "cell_type": "code",
   "execution_count": null,
   "metadata": {},
   "outputs": [],
   "source": []
  }
 ],
 "metadata": {
  "kernelspec": {
   "display_name": "Python 3",
   "language": "python",
   "name": "python3"
  },
  "language_info": {
   "codemirror_mode": {
    "name": "ipython",
    "version": 3
   },
   "file_extension": ".py",
   "mimetype": "text/x-python",
   "name": "python",
   "nbconvert_exporter": "python",
   "pygments_lexer": "ipython3",
   "version": "3.7.6"
  }
 },
 "nbformat": 4,
 "nbformat_minor": 4
}
